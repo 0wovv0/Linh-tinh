{
 "cells": [
  {
   "cell_type": "markdown",
   "id": "9fd00afd",
   "metadata": {},
   "source": [
    "<p style=\"text-align:center\">\n",
    "    <a href=\"https://fiinquant.vn/\" target=\"_blank\">\n",
    "    <img src=\"https://fiinquant.vn/img/webLogo.png\">\n",
    "    </a>\n",
    "</p>\n",
    "\n",
    "<h1 align=\"center\"><font size=\"5\">Bài test vòng 1: Phân tích dữ liệu chứng khoán của mã cổ phiếu MWG </font></h1>\n"
   ]
  },
  {
   "cell_type": "markdown",
   "id": "d66c4314",
   "metadata": {},
   "source": [
    "<h2>Mục lục</h2>\n",
    "<div class=\"alert alert-block alert-info\" style=\"margin-top: 20px\">\n",
    "    <ul>\n",
    "    <li><a href=\"#Đề-bài\">Đề bài</a></li>\n",
    "    <li><a href=\"#Về-bộ-dữ-liệu\">Về bộ dữ liệu</a></li>\n",
    "    <li><a href=\"#Phần-1:-Phân-tích-và-trực-quan-dữ-liệu-cơ-bản\">Phần 1: Phân tích và trực quan dữ liệu cơ bản </a></li>\n",
    "    <li><a href=\"#Phần-2:-Phân-tích-nâng-cao\">Phần 2: Phân tích nâng cao</a> </li>\n",
    "    <li><a href=\"#Phần-3:-Phân-tích-kỹ-thuật-chuyên-sâu\">Phần 3: Phân tích kỹ thuật chuyên sâu</a></li>\n",
    "    <li><a href=\"#Phần-4:-Đưa-ra-insight\">Phần 4: Đưa ra insight</a></li>\n",
    "</a></li>\n",
    "</div>\n",
    "<p>Thời gian làm bài: <strong>75 phút</strong></p>\n",
    "</div>\n",
    "\n",
    "<hr>\n"
   ]
  },
  {
   "cell_type": "markdown",
   "id": "b6715857",
   "metadata": {},
   "source": [
    "# Đề bài"
   ]
  },
  {
   "cell_type": "markdown",
   "id": "e57fd220",
   "metadata": {},
   "source": [
    "Trong bài tập này, hãy giả sử bạn là 1 chuyên viên phân tích dữ liệu chứng khoán của FiinGroup. Công ty đang rất quan tâm đến mã cổ phiếu MWG trên thị trường. Bạn được giao nhiệm vụ đưa ra những phân tích chuyên sâu về mã cổ phiếu này để đưa ra những tư vấn cho việc liệu có nên đầu tư vào MWG hay không dựa vào tập dữ liệu về giá mở cửa, giá cao nhất, thấp nhất, đóng cửa, khối lượng giao dịch, mua chủ động, bán chủ động, giá trị bán khối ngoại, giá trị mua khối ngoại, giá trị mua/bán ròng. Nhiệm vụ của bạn là trả lời 10 câu hỏi sau cùng với 2 câu hỏi mở về việc đưa ra insight từ các phân tích.\n",
    "\n",
    "Sau khi bạn hoàn thành bàu thi, hãy chụp và lưu **ảnh chụp màn hình** các kết quả cuối cùng cho bài làm (ví dụ: biểu đồ, bảng, kết quả tính toán, v.v.). Chúng sẽ cần được chia sẻ trong phần Đánh giá ngang hàng sau đây của mô-đun Dự án cuối cùng."
   ]
  },
  {
   "cell_type": "markdown",
   "id": "6e781014",
   "metadata": {},
   "source": [
    "# Về bộ dữ liệu\n",
    "\n",
    "Dữ liệu về giá mở cửa, giá cao nhất, thấp nhất, đóng cửa, khối lượng giao dịch, mua chủ động, bán chủ động, giá trị bán khối ngoại, giá trị mua khối ngoại, giá trị mua/bán ròng của mã cổ phiếu MWG trong khoảng thời gian từ ngày 15/07/2024 đến 15/07/2025. Dữ liệu được lấy từ thư viện FiinQuant, thí sinh có thể tham khảo thư viện FiinQuant tại [đây](https://fiinquant.vn/). Dữ liệu được thay đổi 1 chút nhằm phục vụ kết quả đầu ra của câu hỏi. "
   ]
  },
  {
   "cell_type": "markdown",
   "id": "fc4c3e9c",
   "metadata": {},
   "source": [
    "| Tên thuộc tính| Mô tả                                                                              | Kiểu dữ liệu            |\n",
    "| ------------- | ---------------------------------------------------------------------------------- | ----------------------- |\n",
    "| ticker        | Tên mã                                                                             | str                     |\n",
    "| timestamp     | Thời gian giao dịch                                                                | str                     |\n",
    "| open          | Giá mở cửa                                                                         | float                   |\n",
    "| low           | Giá thấp nhất                                                                      | float                   |\n",
    "| high          | Giá cao nhất                                                                       | float                   |\n",
    "| close         | Giá đóng cửa                                                                       | float                   |\n",
    "| volume        | Khối lượng giao dịch                                                               | int                     |\n",
    "| bu            | Khối lượng mua chủ động                                                            | int                     |\n",
    "| sd            | Khối lượng bán chủ động                                                            | int                     |\n",
    "| fb            | Giá trị mua khối ngoại                                                             | int                     |\n",
    "| fs            | Giá trị bán khối ngoại                                                             | int                     |\n",
    "| fn            | Giá trị mua/bán ròng khối ngoại                                                    | int                     |"
   ]
  },
  {
   "cell_type": "markdown",
   "id": "8ae085c0",
   "metadata": {},
   "source": [
    "# Phần 1: Phân tích và trực quan dữ liệu cơ bản (3 điểm)"
   ]
  },
  {
   "cell_type": "markdown",
   "id": "18bf37d3",
   "metadata": {},
   "source": [
    "1. Thống kê mô tả cơ bản (1 điểm)\n",
    "\n",
    "Nhiệm vụ:\n",
    "\n",
    "Tải data theo đường link đính kèm và hiển thị:\n",
    "\n",
    "- Bảng biểu của tập dữ liệu\n",
    "\n",
    "- Các ngày có trong tập dữ liệu (sắp xếp theo thứ tự tăng dần)\n",
    "\n",
    "- Tìm ngày có biên độ dao động giá (High - Low) lớn nhất"
   ]
  },
  {
   "cell_type": "code",
   "execution_count": 1,
   "id": "1f6cf934",
   "metadata": {},
   "outputs": [
    {
     "data": {
      "text/html": [
       "<div>\n",
       "<style scoped>\n",
       "    .dataframe tbody tr th:only-of-type {\n",
       "        vertical-align: middle;\n",
       "    }\n",
       "\n",
       "    .dataframe tbody tr th {\n",
       "        vertical-align: top;\n",
       "    }\n",
       "\n",
       "    .dataframe thead th {\n",
       "        text-align: right;\n",
       "    }\n",
       "</style>\n",
       "<table border=\"1\" class=\"dataframe\">\n",
       "  <thead>\n",
       "    <tr style=\"text-align: right;\">\n",
       "      <th></th>\n",
       "      <th>ticker</th>\n",
       "      <th>timestamp</th>\n",
       "      <th>open</th>\n",
       "      <th>high</th>\n",
       "      <th>low</th>\n",
       "      <th>close</th>\n",
       "      <th>volume</th>\n",
       "      <th>bu</th>\n",
       "      <th>sd</th>\n",
       "      <th>fb</th>\n",
       "      <th>fs</th>\n",
       "      <th>fn</th>\n",
       "    </tr>\n",
       "  </thead>\n",
       "  <tbody>\n",
       "    <tr>\n",
       "      <th>0</th>\n",
       "      <td>MWG</td>\n",
       "      <td>2024-07-15 00:00</td>\n",
       "      <td>64900.0</td>\n",
       "      <td>65000.0</td>\n",
       "      <td>64100.0</td>\n",
       "      <td>64300.0</td>\n",
       "      <td>3696509.0</td>\n",
       "      <td>1016500.0</td>\n",
       "      <td>2129300.0</td>\n",
       "      <td>2.719895e+10</td>\n",
       "      <td>7.473112e+10</td>\n",
       "      <td>-4.753217e+10</td>\n",
       "    </tr>\n",
       "    <tr>\n",
       "      <th>1</th>\n",
       "      <td>MWG</td>\n",
       "      <td>2024-07-16 00:00</td>\n",
       "      <td>64600.0</td>\n",
       "      <td>65300.0</td>\n",
       "      <td>64100.0</td>\n",
       "      <td>64100.0</td>\n",
       "      <td>7683411.0</td>\n",
       "      <td>2378400.0</td>\n",
       "      <td>4356000.0</td>\n",
       "      <td>5.108187e+10</td>\n",
       "      <td>1.991344e+11</td>\n",
       "      <td>-1.480525e+11</td>\n",
       "    </tr>\n",
       "    <tr>\n",
       "      <th>2</th>\n",
       "      <td>MWG</td>\n",
       "      <td>2024-07-17 00:00</td>\n",
       "      <td>64700.0</td>\n",
       "      <td>64700.0</td>\n",
       "      <td>62200.0</td>\n",
       "      <td>63500.0</td>\n",
       "      <td>16988598.0</td>\n",
       "      <td>5554200.0</td>\n",
       "      <td>9642200.0</td>\n",
       "      <td>3.771607e+11</td>\n",
       "      <td>2.144160e+11</td>\n",
       "      <td>1.627447e+11</td>\n",
       "    </tr>\n",
       "    <tr>\n",
       "      <th>3</th>\n",
       "      <td>MWG</td>\n",
       "      <td>2024-07-18 00:00</td>\n",
       "      <td>63500.0</td>\n",
       "      <td>65000.0</td>\n",
       "      <td>63400.0</td>\n",
       "      <td>65000.0</td>\n",
       "      <td>7940635.0</td>\n",
       "      <td>3428700.0</td>\n",
       "      <td>3720600.0</td>\n",
       "      <td>3.103453e+11</td>\n",
       "      <td>1.796961e+11</td>\n",
       "      <td>1.306492e+11</td>\n",
       "    </tr>\n",
       "    <tr>\n",
       "      <th>4</th>\n",
       "      <td>MWG</td>\n",
       "      <td>2024-07-19 00:00</td>\n",
       "      <td>65000.0</td>\n",
       "      <td>66300.0</td>\n",
       "      <td>64700.0</td>\n",
       "      <td>65600.0</td>\n",
       "      <td>12010974.0</td>\n",
       "      <td>5373400.0</td>\n",
       "      <td>5986400.0</td>\n",
       "      <td>3.290773e+11</td>\n",
       "      <td>1.525545e+11</td>\n",
       "      <td>1.765229e+11</td>\n",
       "    </tr>\n",
       "    <tr>\n",
       "      <th>...</th>\n",
       "      <td>...</td>\n",
       "      <td>...</td>\n",
       "      <td>...</td>\n",
       "      <td>...</td>\n",
       "      <td>...</td>\n",
       "      <td>...</td>\n",
       "      <td>...</td>\n",
       "      <td>...</td>\n",
       "      <td>...</td>\n",
       "      <td>...</td>\n",
       "      <td>...</td>\n",
       "      <td>...</td>\n",
       "    </tr>\n",
       "    <tr>\n",
       "      <th>244</th>\n",
       "      <td>MWG</td>\n",
       "      <td>2025-07-08 00:00</td>\n",
       "      <td>66600.0</td>\n",
       "      <td>67300.0</td>\n",
       "      <td>66000.0</td>\n",
       "      <td>67200.0</td>\n",
       "      <td>8527473.0</td>\n",
       "      <td>4138800.0</td>\n",
       "      <td>3397500.0</td>\n",
       "      <td>7.218233e+10</td>\n",
       "      <td>1.661482e+11</td>\n",
       "      <td>-9.396585e+10</td>\n",
       "    </tr>\n",
       "    <tr>\n",
       "      <th>245</th>\n",
       "      <td>MWG</td>\n",
       "      <td>2025-07-09 00:00</td>\n",
       "      <td>67500.0</td>\n",
       "      <td>67700.0</td>\n",
       "      <td>66800.0</td>\n",
       "      <td>67700.0</td>\n",
       "      <td>7528756.0</td>\n",
       "      <td>3224500.0</td>\n",
       "      <td>3391000.0</td>\n",
       "      <td>2.423424e+11</td>\n",
       "      <td>2.179185e+11</td>\n",
       "      <td>2.442395e+10</td>\n",
       "    </tr>\n",
       "    <tr>\n",
       "      <th>246</th>\n",
       "      <td>MWG</td>\n",
       "      <td>2025-07-10 00:00</td>\n",
       "      <td>68000.0</td>\n",
       "      <td>68400.0</td>\n",
       "      <td>67300.0</td>\n",
       "      <td>68000.0</td>\n",
       "      <td>6949852.0</td>\n",
       "      <td>3173800.0</td>\n",
       "      <td>2649700.0</td>\n",
       "      <td>1.035376e+11</td>\n",
       "      <td>4.064932e+10</td>\n",
       "      <td>6.288829e+10</td>\n",
       "    </tr>\n",
       "    <tr>\n",
       "      <th>247</th>\n",
       "      <td>MWG</td>\n",
       "      <td>2025-07-11 00:00</td>\n",
       "      <td>68000.0</td>\n",
       "      <td>68100.0</td>\n",
       "      <td>67300.0</td>\n",
       "      <td>67900.0</td>\n",
       "      <td>5784473.0</td>\n",
       "      <td>2648900.0</td>\n",
       "      <td>2156500.0</td>\n",
       "      <td>5.323644e+10</td>\n",
       "      <td>4.087285e+10</td>\n",
       "      <td>1.236359e+10</td>\n",
       "    </tr>\n",
       "    <tr>\n",
       "      <th>248</th>\n",
       "      <td>MWG</td>\n",
       "      <td>2025-07-14 00:00</td>\n",
       "      <td>67900.0</td>\n",
       "      <td>69000.0</td>\n",
       "      <td>66400.0</td>\n",
       "      <td>69000.0</td>\n",
       "      <td>8677135.0</td>\n",
       "      <td>3548900.0</td>\n",
       "      <td>3365200.0</td>\n",
       "      <td>9.751988e+10</td>\n",
       "      <td>4.330591e+10</td>\n",
       "      <td>5.421397e+10</td>\n",
       "    </tr>\n",
       "  </tbody>\n",
       "</table>\n",
       "<p>249 rows × 12 columns</p>\n",
       "</div>"
      ],
      "text/plain": [
       "    ticker         timestamp     open     high      low    close      volume  \\\n",
       "0      MWG  2024-07-15 00:00  64900.0  65000.0  64100.0  64300.0   3696509.0   \n",
       "1      MWG  2024-07-16 00:00  64600.0  65300.0  64100.0  64100.0   7683411.0   \n",
       "2      MWG  2024-07-17 00:00  64700.0  64700.0  62200.0  63500.0  16988598.0   \n",
       "3      MWG  2024-07-18 00:00  63500.0  65000.0  63400.0  65000.0   7940635.0   \n",
       "4      MWG  2024-07-19 00:00  65000.0  66300.0  64700.0  65600.0  12010974.0   \n",
       "..     ...               ...      ...      ...      ...      ...         ...   \n",
       "244    MWG  2025-07-08 00:00  66600.0  67300.0  66000.0  67200.0   8527473.0   \n",
       "245    MWG  2025-07-09 00:00  67500.0  67700.0  66800.0  67700.0   7528756.0   \n",
       "246    MWG  2025-07-10 00:00  68000.0  68400.0  67300.0  68000.0   6949852.0   \n",
       "247    MWG  2025-07-11 00:00  68000.0  68100.0  67300.0  67900.0   5784473.0   \n",
       "248    MWG  2025-07-14 00:00  67900.0  69000.0  66400.0  69000.0   8677135.0   \n",
       "\n",
       "            bu         sd            fb            fs            fn  \n",
       "0    1016500.0  2129300.0  2.719895e+10  7.473112e+10 -4.753217e+10  \n",
       "1    2378400.0  4356000.0  5.108187e+10  1.991344e+11 -1.480525e+11  \n",
       "2    5554200.0  9642200.0  3.771607e+11  2.144160e+11  1.627447e+11  \n",
       "3    3428700.0  3720600.0  3.103453e+11  1.796961e+11  1.306492e+11  \n",
       "4    5373400.0  5986400.0  3.290773e+11  1.525545e+11  1.765229e+11  \n",
       "..         ...        ...           ...           ...           ...  \n",
       "244  4138800.0  3397500.0  7.218233e+10  1.661482e+11 -9.396585e+10  \n",
       "245  3224500.0  3391000.0  2.423424e+11  2.179185e+11  2.442395e+10  \n",
       "246  3173800.0  2649700.0  1.035376e+11  4.064932e+10  6.288829e+10  \n",
       "247  2648900.0  2156500.0  5.323644e+10  4.087285e+10  1.236359e+10  \n",
       "248  3548900.0  3365200.0  9.751988e+10  4.330591e+10  5.421397e+10  \n",
       "\n",
       "[249 rows x 12 columns]"
      ]
     },
     "execution_count": 1,
     "metadata": {},
     "output_type": "execute_result"
    }
   ],
   "source": [
    "# Bảng biểu của tập dữ liệu\n",
    "import pandas as pd\n",
    "df = pd.read_csv(\"MWG.csv\")\n",
    "df"
   ]
  },
  {
   "cell_type": "code",
   "execution_count": 2,
   "id": "6e36a90c",
   "metadata": {},
   "outputs": [
    {
     "data": {
      "text/plain": [
       "0     2024-07-15\n",
       "1     2024-07-16\n",
       "2     2024-07-17\n",
       "3     2024-07-18\n",
       "4     2024-07-19\n",
       "         ...    \n",
       "244   2025-07-08\n",
       "245   2025-07-09\n",
       "246   2025-07-10\n",
       "247   2025-07-11\n",
       "248   2025-07-14\n",
       "Name: timestamp_datetime, Length: 249, dtype: datetime64[ns]"
      ]
     },
     "execution_count": 2,
     "metadata": {},
     "output_type": "execute_result"
    }
   ],
   "source": [
    "# Các ngày có trong tập dữ liệu\n",
    "df[\"timestamp_datetime\"] = pd.to_datetime(df[\"timestamp\"])\n",
    "df[\"timestamp_datetime\"].sort_values()"
   ]
  },
  {
   "cell_type": "code",
   "execution_count": 8,
   "id": "1cc795c1",
   "metadata": {},
   "outputs": [],
   "source": [
    "# Tìm ngày có biên độ dao động giá (High - Low) lớn nhất\n"
   ]
  },
  {
   "cell_type": "markdown",
   "id": "65b7b1b3",
   "metadata": {},
   "source": [
    "2. So sánh hành vi phiên đầu tuần và cuối tuần (1 điểm)\n",
    "\n",
    "Nhiệm vụ:\n",
    "\n",
    "- Tính % thay đổi giá đóng cửa vào ngày thứ Hai và thứ Sáu mỗi tuần.\n",
    "- So sánh phân phối biến động giữa hai ngày này (dùng boxplot hoặc histogram).\n",
    "\n",
    "Gợi ý: sử dụng datetime.weekday() để lọc."
   ]
  },
  {
   "cell_type": "code",
   "execution_count": 3,
   "id": "81aeb992",
   "metadata": {},
   "outputs": [],
   "source": [
    "# Tính % thay đổi giá đóng cửa vào ngày thứ Hai và thứ Sáu mỗi tuần."
   ]
  },
  {
   "cell_type": "code",
   "execution_count": 4,
   "id": "3b929fed",
   "metadata": {},
   "outputs": [],
   "source": [
    "# So sánh phân phối biến động giữa hai ngày này (dùng boxplot hoặc histogram)."
   ]
  },
  {
   "cell_type": "markdown",
   "id": "1afc45c2",
   "metadata": {},
   "source": [
    "3. Phân tích khoảng gap mở cửa (1 điểm)\n",
    "\n",
    "Nhiệm vụ:\n",
    "\n",
    "- Tính khoảng chênh lệch giữa giá mở cửa hôm nay và giá đóng cửa hôm qua (gọi là gap).\n",
    "- Phân loại gap: “Gap Up”, “Gap Down”, “No Gap” dựa trên ngưỡng ±1%.\n",
    "- Thống kê tỷ lệ từng loại gap."
   ]
  },
  {
   "cell_type": "code",
   "execution_count": 15,
   "id": "f4794429",
   "metadata": {},
   "outputs": [],
   "source": [
    "# Tính khoảng chênh lệch giữa giá mở cửa hôm nay và giá đóng cửa hôm qua (gọi là gap).\n"
   ]
  },
  {
   "cell_type": "code",
   "execution_count": 16,
   "id": "ee119cd1",
   "metadata": {},
   "outputs": [],
   "source": [
    "# Phân loại gap: “Gap Up”, “Gap Down”, “No Gap” dựa trên ngưỡng ±1%.\n"
   ]
  },
  {
   "cell_type": "markdown",
   "id": "6bfcf0c6",
   "metadata": {},
   "source": [
    "# Phần 2: Phân tích nâng cao (4 điểm)"
   ]
  },
  {
   "cell_type": "markdown",
   "id": "a7f782c0",
   "metadata": {},
   "source": [
    "4. Tính biến động theo ATR (1 điểm)\n",
    "\n",
    "Nhiệm vụ:\n",
    "\n",
    "- Tính chỉ báo Average True Range (ATR) với cửa sổ 14 ngày.\n",
    "- Vẽ biểu đồ ATR và giải thích ngắn gọn ý nghĩa.\n",
    "- Highlight các giai đoạn ATR tăng vọt (gợi ý: ATR > percentile 90)."
   ]
  },
  {
   "cell_type": "code",
   "execution_count": null,
   "id": "8a27ea8f",
   "metadata": {},
   "outputs": [],
   "source": []
  },
  {
   "cell_type": "markdown",
   "id": "857c749c",
   "metadata": {},
   "source": [
    "5. Xác định các phiên breakout mạnh (1 điểm)\n",
    "\n",
    "Nhiệm vụ:\n",
    "\n",
    "- Phiên breakout mạnh là phiên có giá đóng cửa vượt 10% so với đỉnh gần nhất trong 30 phiên trước đó.\n",
    "- Tìm và hiển thị các phiên breakout đó kèm giá trị Volume tương ứng.\n",
    "- Trực quan bằng biểu đồ đánh dấu breakout."
   ]
  },
  {
   "cell_type": "code",
   "execution_count": null,
   "id": "f002c7f5",
   "metadata": {},
   "outputs": [],
   "source": []
  },
  {
   "cell_type": "markdown",
   "id": "caecc9b1",
   "metadata": {},
   "source": [
    "6. Chiến lược theo vùng giá tích lũy (1 điểm)\n",
    "\n",
    "Nhiệm vụ:\n",
    "\n",
    "- Xác định vùng giá tích lũy: biên độ dao động trong ±3% kéo dài tối thiểu 10 phiên.\n",
    "- Mua khi giá vượt ra khỏi vùng tích lũy với khối lượng tăng ít nhất 50%.\n",
    "- Đánh dấu tín hiệu trên biểu đồ và thống kê số lần breakout từ vùng tích lũy."
   ]
  },
  {
   "cell_type": "code",
   "execution_count": null,
   "id": "5ed7dd9e",
   "metadata": {},
   "outputs": [],
   "source": []
  },
  {
   "cell_type": "markdown",
   "id": "13b19dd4",
   "metadata": {},
   "source": [
    "7. Chỉ báo MFI (Money Flow Index) (1 điểm)\n",
    "\n",
    "Nhiệm vụ:\n",
    "\n",
    "- Tính chỉ báo MFI với khung 14 ngày (dựa trên giá điển hình và volume).\n",
    "- Vẽ MFI cùng biểu đồ giá.\n",
    "- Đánh dấu các vùng MFI > 80 và < 20."
   ]
  },
  {
   "cell_type": "code",
   "execution_count": null,
   "id": "dfed21c6",
   "metadata": {},
   "outputs": [],
   "source": []
  },
  {
   "cell_type": "markdown",
   "id": "b98e22db",
   "metadata": {},
   "source": [
    "# Phần 3: Phân tích kỹ thuật chuyên sâu (2 điểm)"
   ]
  },
  {
   "cell_type": "markdown",
   "id": "052e2483",
   "metadata": {},
   "source": [
    "8. Phân tích ảnh hưởng của dòng tiền tự doanh tới xu hướng giá (1 điểm)\n",
    "\n",
    "Nhiệm vụ:\n",
    "\n",
    "- Tính hệ số tương quan giữa giá trị mua/bán ròng tự doanh với giá đóng cửa và % thay đổi giá.\n",
    "- Vẽ scatter plot giữa giá trị mua ròng tự doanh và giá đóng cửa hôm sau.\n",
    "- Có thể dùng shift() để kiểm tra hiệu ứng trễ."
   ]
  },
  {
   "cell_type": "code",
   "execution_count": null,
   "id": "101c4037",
   "metadata": {},
   "outputs": [],
   "source": []
  },
  {
   "cell_type": "markdown",
   "id": "2ff64349",
   "metadata": {},
   "source": [
    "9. Đánh giá hiệu suất của chiến lược đơn giản theo khối lượng (0.5 điểm)\n",
    "\n",
    "Nhiệm vụ:\n",
    "\n",
    "- Chiến lược: Mua khi khối lượng tăng > 2 lần so với trung bình 10 phiên, giá đóng cửa tăng > 2%.\n",
    "- Bán sau 3 phiên.\n",
    "- Tính tổng lợi nhuận, số lệnh, tỷ lệ thắng/lỗ."
   ]
  },
  {
   "cell_type": "code",
   "execution_count": null,
   "id": "4a87ac27",
   "metadata": {},
   "outputs": [],
   "source": []
  },
  {
   "cell_type": "markdown",
   "id": "efd6e2d6",
   "metadata": {},
   "source": [
    "10. Phát hiện điểm dị biệt bằng KMeans (0.5 điểm)\n",
    "\n",
    "Nhiệm vụ:\n",
    "\n",
    "- Áp dụng KMeans clustering với 3 cụm lên tập dữ liệu (sử dụng các đặc trưng như % thay đổi giá, khối lượng, giá trị giao dịch...).\n",
    "- Xác định cụm “dị biệt” dựa trên khoảng cách trung tâm cụm.\n",
    "- Vẽ biểu đồ phân cụm theo thời gian và nêu nhận định."
   ]
  },
  {
   "cell_type": "code",
   "execution_count": null,
   "id": "3bd0ea65",
   "metadata": {},
   "outputs": [],
   "source": []
  },
  {
   "cell_type": "markdown",
   "id": "c14971d1",
   "metadata": {},
   "source": [
    "# Phần 4: Đưa ra insight (1 điểm)"
   ]
  },
  {
   "cell_type": "markdown",
   "id": "65429108",
   "metadata": {},
   "source": [
    "11. Đánh giá chiến lược breakout trong thời điểm có tin tức gây sốc (1 điểm)\n",
    "- Lấy giai đoạn có sự kiện tin tức lớn (VD: cổ phiếu bị loại khỏi ETF, có giao dịch nội gián, kết quả lỗ quý bất ngờ...).\n",
    "- Áp dụng lại chiến lược breakout ở câu 5 trong giai đoạn đó.\n",
    "- Đánh giá ưu và nhược điểm khi chiến lược hoạt động trong môi trường biến động cực mạnh."
   ]
  },
  {
   "cell_type": "code",
   "execution_count": null,
   "id": "18a808b3",
   "metadata": {},
   "outputs": [],
   "source": []
  }
 ],
 "metadata": {
  "kernelspec": {
   "display_name": "Python 3 (ipykernel)",
   "language": "python",
   "name": "python3"
  },
  "language_info": {
   "codemirror_mode": {
    "name": "ipython",
    "version": 3
   },
   "file_extension": ".py",
   "mimetype": "text/x-python",
   "name": "python",
   "nbconvert_exporter": "python",
   "pygments_lexer": "ipython3",
   "version": "3.12.3"
  }
 },
 "nbformat": 4,
 "nbformat_minor": 5
}
