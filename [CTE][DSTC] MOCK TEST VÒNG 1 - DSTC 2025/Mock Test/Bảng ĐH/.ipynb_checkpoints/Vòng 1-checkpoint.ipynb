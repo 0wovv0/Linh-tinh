{
 "cells": [
  {
   "cell_type": "markdown",
   "id": "9fd00afd",
   "metadata": {},
   "source": [
    "<p style=\"text-align:center\">\n",
    "    <a href=\"https://fiinquant.vn/\" target=\"_blank\">\n",
    "    <img src=\"https://fiinquant.vn/img/webLogo.png\">\n",
    "    </a>\n",
    "</p>\n",
    "\n",
    "<h1 align=\"center\"><font size=\"5\">Bài test vòng 1: Phân tích dữ liệu chứng khoán của mã cổ phiếu ACB </font></h1>\n"
   ]
  },
  {
   "cell_type": "markdown",
   "id": "d66c4314",
   "metadata": {},
   "source": [
    "<h2>Mục lục</h2>\n",
    "<div class=\"alert alert-block alert-info\" style=\"margin-top: 20px\">\n",
    "    <ul>\n",
    "    <li><a href=\"#Đề-bài\">Đề bài</a></li>\n",
    "    <li><a href=\"#Về-bộ-dữ-liệu\">Về bộ dữ liệu</a></li>\n",
    "    <li><a href=\"#Phần-1:-Phân-tích-và-trực-quan-dữ-liệu-cơ-bản-(-3-điểm-)\">Phần 1: Phân tích và trực quan dữ liệu cơ bản </a></li>\n",
    "    <li><a href=\"#Phần-2:-Phân-tích-nâng-cao-(-4-điểm-)\">Phần 2: Phân tích nâng cao</a> </li>\n",
    "    <li><a href=\"#Phần-3:-Phân-tích-kỹ-thuật-chuyên-sâu-(-2-điểm-)\">Phần 3: Phân tích kỹ thuật chuyên sâu</a></li>\n",
    "    <li><a href=\"#Phần-4:-Đưa-ra-insight-(-1-điểm-)\">Phần 4: Đưa ra insight</a></li>\n",
    "</a></li>\n",
    "</div>\n",
    "<p>Thời gian làm bài: <strong>75 phút</strong></p>\n",
    "</div>\n",
    "\n",
    "<hr>\n"
   ]
  },
  {
   "cell_type": "markdown",
   "id": "b6715857",
   "metadata": {},
   "source": [
    "# Đề bài"
   ]
  },
  {
   "cell_type": "markdown",
   "id": "e57fd220",
   "metadata": {},
   "source": [
    "Trong bài tập này, hãy giả sử bạn là 1 chuyên viên phân tích dữ liệu chứng khoán của FiinGroup. Công ty đang rất quan tâm đến mã cổ phiếu ACB trên thị trường. Bạn được giao nhiệm vụ đưa ra những phân tích chuyên sâu về mã cổ phiếu này để đưa ra những tư vấn cho việc liệu có nên đầu tư vào ACB hay không dựa vào tập dữ liệu về giá mở cửa, giá cao nhất, thấp nhất, đóng cửa, khối lượng giao dịch, mua chủ động, bán chủ động, giá trị bán khối ngoại, giá trị mua khối ngoại, giá trị mua/bán ròng. Nhiệm vụ của bạn là trả lời 10 câu hỏi sau cùng với 2 câu hỏi mở về việc đưa ra insight từ các phân tích.\n",
    "\n",
    "Sau khi bạn hoàn thành bàu thi, hãy chụp và lưu **ảnh chụp màn hình** các kết quả cuối cùng cho bài làm (ví dụ: biểu đồ, bảng, kết quả tính toán, v.v.). Chúng sẽ cần được chia sẻ trong phần Đánh giá ngang hàng sau đây của mô-đun Dự án cuối cùng."
   ]
  },
  {
   "cell_type": "markdown",
   "id": "6e781014",
   "metadata": {},
   "source": [
    "# Về bộ dữ liệu\n",
    "\n",
    "Dữ liệu về giá mở cửa, giá cao nhất, thấp nhất, đóng cửa, khối lượng giao dịch, mua chủ động, bán chủ động, giá trị bán khối ngoại, giá trị mua khối ngoại, giá trị mua/bán ròng của mã cổ phiếu ACB trong khoảng thời gian từ ngày 08/06/2024 đến 06/06/2025. Dữ liệu được lấy từ thư viện FiinQuant, thí sinh có thể tham khảo thư viện FiinQuant tại [đây](https://fiinquant.vn/). Dữ liệu được thay đổi 1 chút nhằm phục vụ kết quả đầu ra của câu hỏi. "
   ]
  },
  {
   "cell_type": "markdown",
   "id": "fc4c3e9c",
   "metadata": {},
   "source": [
    "| Tên thuộc tính| Mô tả                                                                              | Kiểu dữ liệu            |\n",
    "| ------------- | ---------------------------------------------------------------------------------- | ----------------------- |\n",
    "| ticker        | Tên mã                                                                             | str                     |\n",
    "| timestamp     | Thời gian giao dịch                                                                | str                     |\n",
    "| open          | Giá mở cửa                                                                         | float                   |\n",
    "| low           | Giá thấp nhất                                                                      | float                   |\n",
    "| high          | Giá cao nhất                                                                       | float                   |\n",
    "| close         | Giá đóng cửa                                                                       | float                   |\n",
    "| volume        | Khối lượng giao dịch                                                               | int                     |\n",
    "| bu            | Khối lượng mua chủ động                                                            | int                     |\n",
    "| sd            | Khối lượng bán chủ động                                                            | int                     |\n",
    "| fb            | Giá trị mua khối ngoại                                                             | int                     |\n",
    "| fs            | Giá trị bán khối ngoại                                                             | int                     |\n",
    "| fn            | Giá trị mua/bán ròng khối ngoại                                                    | int                     |"
   ]
  },
  {
   "cell_type": "markdown",
   "id": "8ae085c0",
   "metadata": {},
   "source": [
    "# Phần 1: Phân tích và trực quan dữ liệu cơ bản (3 điểm)"
   ]
  },
  {
   "cell_type": "markdown",
   "id": "18bf37d3",
   "metadata": {},
   "source": [
    "1. Khám phá dữ liệu cơ bản (1 điểm)\n",
    "\n",
    "Nhiệm vụ:\n",
    "\n",
    "Tải data theo đường link đính kèm và hiển thị:\n",
    "\n",
    "- Bảng biểu của tập dữ liệu\n",
    "\n",
    "- Các ngày có trong tập dữ liệu (sắp xếp theo thứ tự tăng dần)\n",
    "\n",
    "- Check xem tập dữ liệu có các giá trị bị trống không"
   ]
  },
  {
   "cell_type": "code",
   "execution_count": 1,
   "id": "1f6cf934",
   "metadata": {},
   "outputs": [
    {
     "data": {
      "text/html": [
       "<div>\n",
       "<style scoped>\n",
       "    .dataframe tbody tr th:only-of-type {\n",
       "        vertical-align: middle;\n",
       "    }\n",
       "\n",
       "    .dataframe tbody tr th {\n",
       "        vertical-align: top;\n",
       "    }\n",
       "\n",
       "    .dataframe thead th {\n",
       "        text-align: right;\n",
       "    }\n",
       "</style>\n",
       "<table border=\"1\" class=\"dataframe\">\n",
       "  <thead>\n",
       "    <tr style=\"text-align: right;\">\n",
       "      <th></th>\n",
       "      <th>Unnamed: 0</th>\n",
       "      <th>ticker</th>\n",
       "      <th>timestamp</th>\n",
       "      <th>open</th>\n",
       "      <th>high</th>\n",
       "      <th>low</th>\n",
       "      <th>close</th>\n",
       "      <th>volume</th>\n",
       "      <th>bu</th>\n",
       "      <th>sd</th>\n",
       "      <th>fb</th>\n",
       "      <th>fs</th>\n",
       "      <th>fn</th>\n",
       "    </tr>\n",
       "  </thead>\n",
       "  <tbody>\n",
       "    <tr>\n",
       "      <th>0</th>\n",
       "      <td>0</td>\n",
       "      <td>ACB</td>\n",
       "      <td>2024-06-12 00:00</td>\n",
       "      <td>20177.325</td>\n",
       "      <td>20511.525</td>\n",
       "      <td>19968.450</td>\n",
       "      <td>20511.525</td>\n",
       "      <td>10400953.0</td>\n",
       "      <td>5141500.0</td>\n",
       "      <td>4463600.0</td>\n",
       "      <td>3.356064e+10</td>\n",
       "      <td>3.356064e+10</td>\n",
       "      <td>0.000000e+00</td>\n",
       "    </tr>\n",
       "    <tr>\n",
       "      <th>1</th>\n",
       "      <td>1</td>\n",
       "      <td>ACB</td>\n",
       "      <td>2024-06-13 00:00</td>\n",
       "      <td>20511.525</td>\n",
       "      <td>20803.950</td>\n",
       "      <td>20386.200</td>\n",
       "      <td>20720.400</td>\n",
       "      <td>11727801.0</td>\n",
       "      <td>6159800.0</td>\n",
       "      <td>4634400.0</td>\n",
       "      <td>3.420112e+10</td>\n",
       "      <td>3.420112e+10</td>\n",
       "      <td>0.000000e+00</td>\n",
       "    </tr>\n",
       "    <tr>\n",
       "      <th>2</th>\n",
       "      <td>2</td>\n",
       "      <td>ACB</td>\n",
       "      <td>2024-06-14 00:00</td>\n",
       "      <td>20636.850</td>\n",
       "      <td>20803.950</td>\n",
       "      <td>20553.300</td>\n",
       "      <td>20553.300</td>\n",
       "      <td>11049165.0</td>\n",
       "      <td>4244800.0</td>\n",
       "      <td>5013500.0</td>\n",
       "      <td>3.895500e+09</td>\n",
       "      <td>3.895500e+09</td>\n",
       "      <td>0.000000e+00</td>\n",
       "    </tr>\n",
       "    <tr>\n",
       "      <th>3</th>\n",
       "      <td>3</td>\n",
       "      <td>ACB</td>\n",
       "      <td>2024-06-17 00:00</td>\n",
       "      <td>20553.300</td>\n",
       "      <td>20553.300</td>\n",
       "      <td>20260.875</td>\n",
       "      <td>20511.525</td>\n",
       "      <td>6375848.0</td>\n",
       "      <td>2332400.0</td>\n",
       "      <td>3451600.0</td>\n",
       "      <td>0.000000e+00</td>\n",
       "      <td>0.000000e+00</td>\n",
       "      <td>0.000000e+00</td>\n",
       "    </tr>\n",
       "    <tr>\n",
       "      <th>4</th>\n",
       "      <td>4</td>\n",
       "      <td>ACB</td>\n",
       "      <td>2024-06-18 00:00</td>\n",
       "      <td>20636.850</td>\n",
       "      <td>20636.850</td>\n",
       "      <td>20386.200</td>\n",
       "      <td>20511.525</td>\n",
       "      <td>5729760.0</td>\n",
       "      <td>2402600.0</td>\n",
       "      <td>2608700.0</td>\n",
       "      <td>5.512500e+09</td>\n",
       "      <td>5.512500e+09</td>\n",
       "      <td>0.000000e+00</td>\n",
       "    </tr>\n",
       "    <tr>\n",
       "      <th>...</th>\n",
       "      <td>...</td>\n",
       "      <td>...</td>\n",
       "      <td>...</td>\n",
       "      <td>...</td>\n",
       "      <td>...</td>\n",
       "      <td>...</td>\n",
       "      <td>...</td>\n",
       "      <td>...</td>\n",
       "      <td>...</td>\n",
       "      <td>...</td>\n",
       "      <td>...</td>\n",
       "      <td>...</td>\n",
       "      <td>...</td>\n",
       "    </tr>\n",
       "    <tr>\n",
       "      <th>244</th>\n",
       "      <td>244</td>\n",
       "      <td>ACB</td>\n",
       "      <td>2025-06-05 00:00</td>\n",
       "      <td>21150.000</td>\n",
       "      <td>21200.000</td>\n",
       "      <td>21000.000</td>\n",
       "      <td>21000.000</td>\n",
       "      <td>5332029.0</td>\n",
       "      <td>1687900.0</td>\n",
       "      <td>3380000.0</td>\n",
       "      <td>1.390215e+09</td>\n",
       "      <td>1.690492e+10</td>\n",
       "      <td>-1.551471e+10</td>\n",
       "    </tr>\n",
       "    <tr>\n",
       "      <th>245</th>\n",
       "      <td>245</td>\n",
       "      <td>ACB</td>\n",
       "      <td>2025-06-06 00:00</td>\n",
       "      <td>21050.000</td>\n",
       "      <td>21200.000</td>\n",
       "      <td>21000.000</td>\n",
       "      <td>21000.000</td>\n",
       "      <td>6801445.0</td>\n",
       "      <td>2613800.0</td>\n",
       "      <td>3765700.0</td>\n",
       "      <td>5.933401e+10</td>\n",
       "      <td>5.059046e+10</td>\n",
       "      <td>8.743541e+09</td>\n",
       "    </tr>\n",
       "    <tr>\n",
       "      <th>246</th>\n",
       "      <td>246</td>\n",
       "      <td>ACB</td>\n",
       "      <td>2025-06-09 00:00</td>\n",
       "      <td>21000.000</td>\n",
       "      <td>21050.000</td>\n",
       "      <td>20900.000</td>\n",
       "      <td>20950.000</td>\n",
       "      <td>5723393.0</td>\n",
       "      <td>2256400.0</td>\n",
       "      <td>3202900.0</td>\n",
       "      <td>2.874282e+10</td>\n",
       "      <td>2.802398e+10</td>\n",
       "      <td>7.188474e+08</td>\n",
       "    </tr>\n",
       "    <tr>\n",
       "      <th>247</th>\n",
       "      <td>247</td>\n",
       "      <td>ACB</td>\n",
       "      <td>2025-06-10 00:00</td>\n",
       "      <td>21050.000</td>\n",
       "      <td>21050.000</td>\n",
       "      <td>20900.000</td>\n",
       "      <td>20950.000</td>\n",
       "      <td>5728023.0</td>\n",
       "      <td>1160500.0</td>\n",
       "      <td>4075800.0</td>\n",
       "      <td>3.283620e+10</td>\n",
       "      <td>2.579405e+10</td>\n",
       "      <td>7.042148e+09</td>\n",
       "    </tr>\n",
       "    <tr>\n",
       "      <th>248</th>\n",
       "      <td>248</td>\n",
       "      <td>ACB</td>\n",
       "      <td>2025-06-11 00:00</td>\n",
       "      <td>21000.000</td>\n",
       "      <td>21050.000</td>\n",
       "      <td>20900.000</td>\n",
       "      <td>20950.000</td>\n",
       "      <td>3589298.0</td>\n",
       "      <td>1252900.0</td>\n",
       "      <td>2095600.0</td>\n",
       "      <td>4.603627e+10</td>\n",
       "      <td>4.226341e+10</td>\n",
       "      <td>3.772863e+09</td>\n",
       "    </tr>\n",
       "  </tbody>\n",
       "</table>\n",
       "<p>249 rows × 13 columns</p>\n",
       "</div>"
      ],
      "text/plain": [
       "     Unnamed: 0 ticker         timestamp       open       high        low  \\\n",
       "0             0    ACB  2024-06-12 00:00  20177.325  20511.525  19968.450   \n",
       "1             1    ACB  2024-06-13 00:00  20511.525  20803.950  20386.200   \n",
       "2             2    ACB  2024-06-14 00:00  20636.850  20803.950  20553.300   \n",
       "3             3    ACB  2024-06-17 00:00  20553.300  20553.300  20260.875   \n",
       "4             4    ACB  2024-06-18 00:00  20636.850  20636.850  20386.200   \n",
       "..          ...    ...               ...        ...        ...        ...   \n",
       "244         244    ACB  2025-06-05 00:00  21150.000  21200.000  21000.000   \n",
       "245         245    ACB  2025-06-06 00:00  21050.000  21200.000  21000.000   \n",
       "246         246    ACB  2025-06-09 00:00  21000.000  21050.000  20900.000   \n",
       "247         247    ACB  2025-06-10 00:00  21050.000  21050.000  20900.000   \n",
       "248         248    ACB  2025-06-11 00:00  21000.000  21050.000  20900.000   \n",
       "\n",
       "         close      volume         bu         sd            fb            fs  \\\n",
       "0    20511.525  10400953.0  5141500.0  4463600.0  3.356064e+10  3.356064e+10   \n",
       "1    20720.400  11727801.0  6159800.0  4634400.0  3.420112e+10  3.420112e+10   \n",
       "2    20553.300  11049165.0  4244800.0  5013500.0  3.895500e+09  3.895500e+09   \n",
       "3    20511.525   6375848.0  2332400.0  3451600.0  0.000000e+00  0.000000e+00   \n",
       "4    20511.525   5729760.0  2402600.0  2608700.0  5.512500e+09  5.512500e+09   \n",
       "..         ...         ...        ...        ...           ...           ...   \n",
       "244  21000.000   5332029.0  1687900.0  3380000.0  1.390215e+09  1.690492e+10   \n",
       "245  21000.000   6801445.0  2613800.0  3765700.0  5.933401e+10  5.059046e+10   \n",
       "246  20950.000   5723393.0  2256400.0  3202900.0  2.874282e+10  2.802398e+10   \n",
       "247  20950.000   5728023.0  1160500.0  4075800.0  3.283620e+10  2.579405e+10   \n",
       "248  20950.000   3589298.0  1252900.0  2095600.0  4.603627e+10  4.226341e+10   \n",
       "\n",
       "               fn  \n",
       "0    0.000000e+00  \n",
       "1    0.000000e+00  \n",
       "2    0.000000e+00  \n",
       "3    0.000000e+00  \n",
       "4    0.000000e+00  \n",
       "..            ...  \n",
       "244 -1.551471e+10  \n",
       "245  8.743541e+09  \n",
       "246  7.188474e+08  \n",
       "247  7.042148e+09  \n",
       "248  3.772863e+09  \n",
       "\n",
       "[249 rows x 13 columns]"
      ]
     },
     "execution_count": 1,
     "metadata": {},
     "output_type": "execute_result"
    }
   ],
   "source": [
    "# Bảng biểu của tập dữ liệu\n",
    "import pandas as pd\n",
    "df = pd.read_csv(\"ACB.csv\")\n",
    "df"
   ]
  },
  {
   "cell_type": "code",
   "execution_count": 2,
   "id": "6e36a90c",
   "metadata": {},
   "outputs": [
    {
     "data": {
      "text/plain": [
       "0     2024-06-12\n",
       "1     2024-06-13\n",
       "2     2024-06-14\n",
       "3     2024-06-17\n",
       "4     2024-06-18\n",
       "         ...    \n",
       "244   2025-06-05\n",
       "245   2025-06-06\n",
       "246   2025-06-09\n",
       "247   2025-06-10\n",
       "248   2025-06-11\n",
       "Name: timestamp_datetime, Length: 249, dtype: datetime64[ns]"
      ]
     },
     "execution_count": 2,
     "metadata": {},
     "output_type": "execute_result"
    }
   ],
   "source": [
    "# Các ngày có trong tập dữ liệu\n",
    "df[\"timestamp_datetime\"] = pd.to_datetime(df[\"timestamp\"])\n",
    "df[\"timestamp_datetime\"].sort_values()"
   ]
  },
  {
   "cell_type": "code",
   "execution_count": 8,
   "id": "1cc795c1",
   "metadata": {},
   "outputs": [],
   "source": [
    "# Check xem tập dữ liệu có các giá trị bị trống không\n"
   ]
  },
  {
   "cell_type": "markdown",
   "id": "65b7b1b3",
   "metadata": {},
   "source": [
    "2. Tính % thay đổi giá đóng cửa hàng ngày (1 điểm)\n",
    "\n",
    "Nhiệm vụ:\n",
    "\n",
    "Tính % thay đổi giá đóng cửa hàng ngày và show kết quả bằng biểu đồ."
   ]
  },
  {
   "cell_type": "code",
   "execution_count": 3,
   "id": "81aeb992",
   "metadata": {},
   "outputs": [
    {
     "data": {
      "text/html": [
       "<div>\n",
       "<style scoped>\n",
       "    .dataframe tbody tr th:only-of-type {\n",
       "        vertical-align: middle;\n",
       "    }\n",
       "\n",
       "    .dataframe tbody tr th {\n",
       "        vertical-align: top;\n",
       "    }\n",
       "\n",
       "    .dataframe thead th {\n",
       "        text-align: right;\n",
       "    }\n",
       "</style>\n",
       "<table border=\"1\" class=\"dataframe\">\n",
       "  <thead>\n",
       "    <tr style=\"text-align: right;\">\n",
       "      <th></th>\n",
       "      <th>ticker</th>\n",
       "      <th>timestamp</th>\n",
       "      <th>close</th>\n",
       "      <th>DailyPercentChange</th>\n",
       "    </tr>\n",
       "  </thead>\n",
       "  <tbody>\n",
       "    <tr>\n",
       "      <th>0</th>\n",
       "      <td>ACB</td>\n",
       "      <td>2024-06-12 00:00</td>\n",
       "      <td>20511.525</td>\n",
       "      <td>NaN</td>\n",
       "    </tr>\n",
       "    <tr>\n",
       "      <th>1</th>\n",
       "      <td>ACB</td>\n",
       "      <td>2024-06-13 00:00</td>\n",
       "      <td>20720.400</td>\n",
       "      <td>0.010183</td>\n",
       "    </tr>\n",
       "    <tr>\n",
       "      <th>2</th>\n",
       "      <td>ACB</td>\n",
       "      <td>2024-06-14 00:00</td>\n",
       "      <td>20553.300</td>\n",
       "      <td>-0.008065</td>\n",
       "    </tr>\n",
       "    <tr>\n",
       "      <th>3</th>\n",
       "      <td>ACB</td>\n",
       "      <td>2024-06-17 00:00</td>\n",
       "      <td>20511.525</td>\n",
       "      <td>-0.002033</td>\n",
       "    </tr>\n",
       "    <tr>\n",
       "      <th>4</th>\n",
       "      <td>ACB</td>\n",
       "      <td>2024-06-18 00:00</td>\n",
       "      <td>20511.525</td>\n",
       "      <td>0.000000</td>\n",
       "    </tr>\n",
       "    <tr>\n",
       "      <th>...</th>\n",
       "      <td>...</td>\n",
       "      <td>...</td>\n",
       "      <td>...</td>\n",
       "      <td>...</td>\n",
       "    </tr>\n",
       "    <tr>\n",
       "      <th>244</th>\n",
       "      <td>ACB</td>\n",
       "      <td>2025-06-05 00:00</td>\n",
       "      <td>21000.000</td>\n",
       "      <td>-0.004739</td>\n",
       "    </tr>\n",
       "    <tr>\n",
       "      <th>245</th>\n",
       "      <td>ACB</td>\n",
       "      <td>2025-06-06 00:00</td>\n",
       "      <td>21000.000</td>\n",
       "      <td>0.000000</td>\n",
       "    </tr>\n",
       "    <tr>\n",
       "      <th>246</th>\n",
       "      <td>ACB</td>\n",
       "      <td>2025-06-09 00:00</td>\n",
       "      <td>20950.000</td>\n",
       "      <td>-0.002381</td>\n",
       "    </tr>\n",
       "    <tr>\n",
       "      <th>247</th>\n",
       "      <td>ACB</td>\n",
       "      <td>2025-06-10 00:00</td>\n",
       "      <td>20950.000</td>\n",
       "      <td>0.000000</td>\n",
       "    </tr>\n",
       "    <tr>\n",
       "      <th>248</th>\n",
       "      <td>ACB</td>\n",
       "      <td>2025-06-11 00:00</td>\n",
       "      <td>20950.000</td>\n",
       "      <td>0.000000</td>\n",
       "    </tr>\n",
       "  </tbody>\n",
       "</table>\n",
       "<p>249 rows × 4 columns</p>\n",
       "</div>"
      ],
      "text/plain": [
       "    ticker         timestamp      close  DailyPercentChange\n",
       "0      ACB  2024-06-12 00:00  20511.525                 NaN\n",
       "1      ACB  2024-06-13 00:00  20720.400            0.010183\n",
       "2      ACB  2024-06-14 00:00  20553.300           -0.008065\n",
       "3      ACB  2024-06-17 00:00  20511.525           -0.002033\n",
       "4      ACB  2024-06-18 00:00  20511.525            0.000000\n",
       "..     ...               ...        ...                 ...\n",
       "244    ACB  2025-06-05 00:00  21000.000           -0.004739\n",
       "245    ACB  2025-06-06 00:00  21000.000            0.000000\n",
       "246    ACB  2025-06-09 00:00  20950.000           -0.002381\n",
       "247    ACB  2025-06-10 00:00  20950.000            0.000000\n",
       "248    ACB  2025-06-11 00:00  20950.000            0.000000\n",
       "\n",
       "[249 rows x 4 columns]"
      ]
     },
     "execution_count": 3,
     "metadata": {},
     "output_type": "execute_result"
    }
   ],
   "source": [
    "# Tính % thay đổi giá đóng cửa hàng ngày\n",
    "df[\"DailyPercentChange\"] = df[\"close\"] / df[\"close\"].shift(1) - 1\n",
    "df[[\"ticker\", \"timestamp\", \"close\", \"DailyPercentChange\"]]"
   ]
  },
  {
   "cell_type": "code",
   "execution_count": 4,
   "id": "3b929fed",
   "metadata": {},
   "outputs": [
    {
     "data": {
      "image/png": "[encoded data removed]",
      "text/plain": [
       "<Figure size 1200x600 with 1 Axes>"
      ]
     },
     "metadata": {},
     "output_type": "display_data"
    }
   ],
   "source": [
    "# Vẽ biểu đồ\n",
    "import matplotlib.pyplot as plt\n",
    "import matplotlib.ticker as mtick\n",
    "\n",
    "plt.figure(figsize=(12, 6))\n",
    "plt.plot(df[\"timestamp_datetime\"], df[\"DailyPercentChange\"], label=\"% thay đổi hàng ngày\")\n",
    "plt.gca().yaxis.set_major_formatter(mtick.PercentFormatter(xmax=1.0))\n",
    "plt.xlabel(\"Ngày\")\n",
    "plt.ylabel(\"% thay đổi hàng ngày\")\n",
    "plt.title(\"Biểu đồ hiệu suất cổ phiếu ACB\")\n",
    "plt.grid(True)\n",
    "plt.legend()\n",
    "plt.tight_layout()\n",
    "plt.show()"
   ]
  },
  {
   "cell_type": "markdown",
   "id": "1afc45c2",
   "metadata": {},
   "source": [
    "3. Đường MA (1 điểm)\n",
    "\n",
    "Nhiệm vụ:\n",
    "\n",
    "Tính toán đường trung bình động đơn giản (SMA) 5 ngày và 20 ngày của giá đóng cửa và thể hiện chúng trên biểu đồ."
   ]
  },
  {
   "cell_type": "code",
   "execution_count": 15,
   "id": "f4794429",
   "metadata": {},
   "outputs": [],
   "source": [
    "# Tính đường trung bình động đơn giản (SMA) 5 ngày và 20 ngày\n"
   ]
  },
  {
   "cell_type": "code",
   "execution_count": 16,
   "id": "ee119cd1",
   "metadata": {},
   "outputs": [],
   "source": [
    "# Vẽ biểu đồ\n"
   ]
  },
  {
   "cell_type": "markdown",
   "id": "6bfcf0c6",
   "metadata": {},
   "source": [
    "# Phần 2: Phân tích nâng cao (4 điểm)"
   ]
  },
  {
   "cell_type": "markdown",
   "id": "a7f782c0",
   "metadata": {},
   "source": [
    "4. Phân tích biến động (1 điểm)\n",
    "\n",
    "Nhiệm vụ:\n",
    "\n",
    "Tính toán và vẽ biểu đồ độ lệch chuẩn 10 ngày và 30 ngày (biến động) của biến động giá hàng ngày."
   ]
  },
  {
   "cell_type": "code",
   "execution_count": null,
   "id": "8a27ea8f",
   "metadata": {},
   "outputs": [],
   "source": []
  },
  {
   "cell_type": "markdown",
   "id": "857c749c",
   "metadata": {},
   "source": [
    "5. Phát hiện đột biến khối lượng (1 điểm)\n",
    "\n",
    "Nhiệm vụ:\n",
    "\n",
    "Xác định 5 ngày có khối lượng cao bất thường hàng đầu (ví dụ: khối lượng gấp 2 lần khối lượng trượt trung bình của 20 ngày trước đó) và hiển thị chúng cùng với dữ liệu OHLCV tương ứng."
   ]
  },
  {
   "cell_type": "code",
   "execution_count": null,
   "id": "f002c7f5",
   "metadata": {},
   "outputs": [],
   "source": []
  },
  {
   "cell_type": "markdown",
   "id": "caecc9b1",
   "metadata": {},
   "source": [
    "6. Chiến lược Golden Cross (1 điểm)\n",
    "\n",
    "Nhiệm vụ:\n",
    "\n",
    "Triển khai chiến lược golden cross sử dụng SMA 50 ngày và 200 ngày. Làm nổi bật tín hiệu mua (khi SMA 50 ngày vượt qua 200 ngày) và tín hiệu bán."
   ]
  },
  {
   "cell_type": "code",
   "execution_count": null,
   "id": "5ed7dd9e",
   "metadata": {},
   "outputs": [],
   "source": []
  },
  {
   "cell_type": "markdown",
   "id": "13b19dd4",
   "metadata": {},
   "source": [
    "7. Chỉ báo RSI (1 điểm)\n",
    "\n",
    "Nhiệm vụ:\n",
    "\n",
    "Triển khai Chỉ số sức mạnh tương đối (RSI) với cửa sổ 14 ngày.\n",
    "\n",
    "Vẽ nó bên dưới biểu đồ giá\n",
    "\n",
    "Đánh dấu các vùng quá bán (<30) và quá mua (>70)"
   ]
  },
  {
   "cell_type": "code",
   "execution_count": null,
   "id": "dfed21c6",
   "metadata": {},
   "outputs": [],
   "source": []
  },
  {
   "cell_type": "markdown",
   "id": "b98e22db",
   "metadata": {},
   "source": [
    "# Phần 3: Phân tích kỹ thuật chuyên sâu (2 điểm)"
   ]
  },
  {
   "cell_type": "markdown",
   "id": "052e2483",
   "metadata": {},
   "source": [
    "8. Phân tích mối tương quan giữa hoạt động giao dịch và biến động giá cổ phiếu (1 điểm)\n",
    "\n",
    "Nhiệm vụ:\n",
    "\n",
    "- Tính hệ số tương quan Pearson giữa Giá trị mua/bán ròng khối ngoại, khố lượng mua/bán chủ động (bằng Khối lượng mua chủ động - Khối lượng bán chủ động) với % thay đổi giá đóng cửa hàng ngày.\n",
    "- Trực quan hóa kết quả bằng heatmap (seaborn) để thể hiện tương quan giữa các biến"
   ]
  },
  {
   "cell_type": "code",
   "execution_count": null,
   "id": "101c4037",
   "metadata": {},
   "outputs": [],
   "source": []
  },
  {
   "cell_type": "markdown",
   "id": "2ff64349",
   "metadata": {},
   "source": [
    "9. Kiểm tra ngược đơn giản của một chiến lược (Backtest) (0.5 điểm)\n",
    "\n",
    "Nhiệm vụ:\n",
    "\n",
    "Kiểm tra ngược một chiến lược bằng cách sử dụng RSI và SMA giao nhau:\n",
    "\n",
    "- Mua khi RSI < 30 và giá > SMA 20 ngày\n",
    "\n",
    "- Bán khi RSI > 70 hoặc giá < SMA 20 ngày\n",
    "\n",
    "Hiển thị số liệu hiệu suất: tổng lợi nhuận, số giao dịch, tỷ lệ thắng."
   ]
  },
  {
   "cell_type": "code",
   "execution_count": null,
   "id": "4a87ac27",
   "metadata": {},
   "outputs": [],
   "source": []
  },
  {
   "cell_type": "markdown",
   "id": "efd6e2d6",
   "metadata": {},
   "source": [
    "10. Phát hiện bất thường với Isolation Forest (0.5 điểm)\n",
    "\n",
    "Nhiệm vụ:\n",
    "\n",
    "Sử dụng thuật toán IsolationForest trên dữ liệu OHLCV và các chỉ báo kỹ thuật để phát hiện bất thường.\n",
    "\n",
    "- Làm nổi bật các bất thường trên biểu đồ chuỗi thời gian\n",
    "\n",
    "- Giải thích ngắn gọn các tính năng bạn đã sử dụng và lý do"
   ]
  },
  {
   "cell_type": "code",
   "execution_count": null,
   "id": "3bd0ea65",
   "metadata": {},
   "outputs": [],
   "source": []
  },
  {
   "cell_type": "markdown",
   "id": "c14971d1",
   "metadata": {},
   "source": [
    "# Phần 4: Đưa ra insight (1 điểm)"
   ]
  },
  {
   "cell_type": "markdown",
   "id": "65429108",
   "metadata": {},
   "source": [
    "11. Đánh giá các chiến lược Golden Cross, quá mua quá bán đã phân tích ở trên trong bối cảnh thị trường có biến động mạnh do tin tức (1 điểm)\n",
    "- Lấy một giai đoạn thị trường có biến động mạnh do tin tức (ví dụ: tin chính trị, vĩ mô, báo cáo tài chính, nâng hạng thị trường, khủng hoảng như việc Mỹ áp thuế quan mạng lên hàng hóa xuất khẩu Việt Nam khiến thị trường giảm mạnh 3 phiên liên tiếp)\n",
    "- Áp dụng lại chiến lược Golden Cross, quá mua quá bán (RSI+SMA20) trong giai đoạn này\n",
    "- Đánh giá ưu nhược điểm của chiến lược trong môi trường nhiễu động:\n",
    "  + Lợi:\n",
    "    ~ RSI < 30 giúp \"bắt đáy kỹ thuật\" khá tốt trong nhiều trường hợp\n",
    "    ~ SMA 20 là hỗ trợ động, giúp loại bỏ tín hiệu sai khi giá giảm mạnh\n",
    "  + Hại\n",
    "    ~ RSI có thể rơi vào trạng thái quá bán kéo dài khi giá giảm do sự kiện mạnh\n",
    "    ~ SMA 20 dễ bị xuyên thủng bởi biến động do tin tức → tạo tín hiệu bán giả"
   ]
  },
  {
   "cell_type": "markdown",
   "id": "779cdfab",
   "metadata": {},
   "source": []
  },
  {
   "cell_type": "code",
   "execution_count": null,
   "id": "18a808b3",
   "metadata": {},
   "outputs": [],
   "source": []
  }
 ],
 "metadata": {
  "kernelspec": {
   "display_name": "Python 3 (ipykernel)",
   "language": "python",
   "name": "python3"
  },
  "language_info": {
   "codemirror_mode": {
    "name": "ipython",
    "version": 3
   },
   "file_extension": ".py",
   "mimetype": "text/x-python",
   "name": "python",
   "nbconvert_exporter": "python",
   "pygments_lexer": "ipython3",
   "version": "3.12.3"
  }
 },
 "nbformat": 4,
 "nbformat_minor": 5
}
